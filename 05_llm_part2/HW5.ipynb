{
 "cells": [
  {
   "cell_type": "markdown",
   "id": "eb1e0bca-6c46-4d07-912f-5585567d24e4",
   "metadata": {},
   "source": [
    "* Load in a generative model using the HuggingFace pipeline. Use the zero-shot, few-shot, chain-of-thought, and few-shot chain-of-thought prompting to get the sum of odd numbers from a list of integers.\n",
    "* In a few sentences describe what you learnt from each approach of prompting.\n",
    "* Next, play around with the temperature parameter. In a few sentences describe what you changes you notice."
   ]
  },
  {
   "cell_type": "code",
   "execution_count": 1,
   "id": "a467e1a0-a5ed-4970-bdf7-704205363467",
   "metadata": {},
   "outputs": [
    {
     "name": "stdin",
     "output_type": "stream",
     "text": [
      "Enter huggingfacehub api token:  ········\n"
     ]
    }
   ],
   "source": [
    "import os\n",
    "from getpass import getpass\n",
    "os.environ['HUGGINGFACEHUB_API_TOKEN'] = getpass('Enter huggingfacehub api token: ')"
   ]
  },
  {
   "cell_type": "code",
   "execution_count": 2,
   "id": "ee23eecc-92ec-46ea-a296-38e8da380763",
   "metadata": {},
   "outputs": [
    {
     "name": "stderr",
     "output_type": "stream",
     "text": [
      "/soft/applications/conda/2024-08-08/mconda3/lib/python3.11/site-packages/transformers/tokenization_utils_base.py:1601: FutureWarning: `clean_up_tokenization_spaces` was not set. It will be set to `True` by default. This behavior will be depracted in transformers v4.45, and will be then set to `False` by default. For more details check this issue: https://github.com/huggingface/transformers/issues/31884\n",
      "  warnings.warn(\n",
      "2024-11-26 07:15:18.799159: E external/local_xla/xla/stream_executor/cuda/cuda_fft.cc:477] Unable to register cuFFT factory: Attempting to register factory for plugin cuFFT when one has already been registered\n",
      "WARNING: All log messages before absl::InitializeLog() is called are written to STDERR\n",
      "E0000 00:00:1732605319.032109 1497170 cuda_dnn.cc:8310] Unable to register cuDNN factory: Attempting to register factory for plugin cuDNN when one has already been registered\n",
      "E0000 00:00:1732605319.119993 1497170 cuda_blas.cc:1418] Unable to register cuBLAS factory: Attempting to register factory for plugin cuBLAS when one has already been registered\n",
      "2024-11-26 07:15:19.786311: I tensorflow/core/platform/cpu_feature_guard.cc:210] This TensorFlow binary is optimized to use available CPU instructions in performance-critical operations.\n",
      "To enable the following instructions: AVX2 FMA, in other operations, rebuild TensorFlow with the appropriate compiler flags.\n",
      "\n",
      "WARNING: You are currently loading Falcon using legacy code contained in the model repository. Falcon has now been fully ported into the Hugging Face transformers library. For the most up-to-date and high-performance version of the Falcon model code, please update to the latest version of transformers and then load the model without the trust_remote_code=True argument.\n",
      "\n"
     ]
    },
    {
     "data": {
      "application/vnd.jupyter.widget-view+json": {
       "model_id": "6fd440c310cd4ded8196c481e124757b",
       "version_major": 2,
       "version_minor": 0
      },
      "text/plain": [
       "Loading checkpoint shards:   0%|          | 0/2 [00:00<?, ?it/s]"
      ]
     },
     "metadata": {},
     "output_type": "display_data"
    }
   ],
   "source": [
    "from transformers import AutoTokenizer, AutoModelForCausalLM\n",
    "import transformers\n",
    "import torch\n",
    "\n",
    "\n",
    "# load model\n",
    "model = \"tiiuae/falcon-7b-instruct\"\n",
    "# model = \"tiiuae/falcon-40b-instruct\"\n",
    "tokenizer = AutoTokenizer.from_pretrained(model)\n",
    "\n",
    "falcon_pipeline = transformers.pipeline(\"text-generation\",\n",
    "                                        model=model,\n",
    "                                        tokenizer=tokenizer,\n",
    "                                        torch_dtype=torch.bfloat16,\n",
    "                                        trust_remote_code=True,\n",
    "                                        device_map=\"auto\"\n",
    "                                        )"
   ]
  },
  {
   "cell_type": "code",
   "execution_count": 3,
   "id": "219b6b04-dee5-4a79-9d36-cbf3422b1a9f",
   "metadata": {},
   "outputs": [
    {
     "name": "stderr",
     "output_type": "stream",
     "text": [
      "/var/tmp/pbs.38422.sophia-pbs-01.lab.alcf.anl.gov/ipykernel_1497170/1314514401.py:5: LangChainDeprecationWarning: The class `HuggingFaceHub` was deprecated in LangChain 0.0.21 and will be removed in 1.0. An updated version of the class exists in the :class:`~langchain-huggingface package and should be used instead. To use it run `pip install -U :class:`~langchain-huggingface` and import as `from :class:`~langchain_huggingface import HuggingFaceEndpoint``.\n",
      "  falcon = HuggingFaceHub(\n"
     ]
    }
   ],
   "source": [
    "# load remote model\n",
    "from langchain.llms import HuggingFaceHub\n",
    "model = \"tiiuae/falcon-7b-instruct\"\n",
    "# model = \"tiiuae/falcon-40b-instruct\"\n",
    "falcon = HuggingFaceHub(\n",
    "    repo_id=model,\n",
    "    model_kwargs={\"temperature\": 0.5,\n",
    "                  \"num_beams\": 4, \"num_beam_groups\": 2},\n",
    ")\n",
    "# using the diverse beam-search decoding"
   ]
  },
  {
   "cell_type": "code",
   "execution_count": 4,
   "id": "d8d3ac77-4eee-4266-a04d-e2359071a875",
   "metadata": {},
   "outputs": [],
   "source": [
    "def get_completion_falcon(input, host=\"remote\", **kwargs):\n",
    "    prompt = f\"#### User: \\n{input}\\n\\n#### Response from falcon-7b-instruct:\"\n",
    "    response = \"\"\n",
    "    # print(prompt)\n",
    "    if host.lower() == \"local\":\n",
    "      print(\"invoking llm at Google Colab\")\n",
    "      if 'max_length' not in kwargs:\n",
    "        kwargs['max_length'] = 1000\n",
    "\n",
    "      falcon_response = falcon_pipeline(prompt,\n",
    "                                      #max_length=500,\n",
    "                                      do_sample=True,\n",
    "                                      top_k=10,\n",
    "                                      num_return_sequences=1,\n",
    "                                      eos_token_id=tokenizer.eos_token_id,\n",
    "                                      **kwargs,\n",
    "                                      )\n",
    "      response = falcon_response[0]['generated_text']\n",
    "\n",
    "    elif host.lower() == \"remote\":\n",
    "      print(\"invoking llm at Huggingface Hub\")\n",
    "      if \"max_length\" in kwargs:\n",
    "        kwargs['max_new_tokens'] = kwargs['max_length']\n",
    "\n",
    "      response = falcon.invoke(prompt, **kwargs)\n",
    "\n",
    "    else:\n",
    "      print (\"invalid host value, must be 'remote' or 'local'\")\n",
    "\n",
    "    return response"
   ]
  },
  {
   "cell_type": "markdown",
   "id": "c6d06ce3-10bc-41b1-a088-2de0ff512886",
   "metadata": {},
   "source": [
    "## Zero-shot"
   ]
  },
  {
   "cell_type": "code",
   "execution_count": 13,
   "id": "ccbf7e6f-0706-4dc3-a5e2-80049b547a95",
   "metadata": {},
   "outputs": [
    {
     "name": "stdout",
     "output_type": "stream",
     "text": [
      "invoking llm at Huggingface Hub\n",
      "#### User: \n",
      "Calculate the sum of odd numbers in the list: (1, 2, 3, 4, 5, 96, 97, 98, 99, 100)\n",
      "\n",
      "#### Response from falcon-7b-instruct:\n",
      "\n",
      "The sum of odd numbers in the list is 104.\n",
      "User \n"
     ]
    }
   ],
   "source": [
    "## falcon-7b-instruct\n",
    "# 1+3+5+97+99 = 205\n",
    "prompt =  \"Calculate the sum of odd numbers in the list: (1, 2, 3, 4, 5, 96, 97, 98, 99, 100)\"\n",
    "response = get_completion_falcon(prompt)\n",
    "print(response)"
   ]
  },
  {
   "cell_type": "markdown",
   "id": "0e0d2ccf-dfce-46ab-ae71-5946a629d93d",
   "metadata": {},
   "source": [
    "## Few-shots"
   ]
  },
  {
   "cell_type": "code",
   "execution_count": 20,
   "id": "e7950521-dc32-47e3-890c-4f5c0ae53cbf",
   "metadata": {},
   "outputs": [
    {
     "name": "stdout",
     "output_type": "stream",
     "text": [
      "invoking llm at Huggingface Hub\n",
      "#### User: \n",
      "You are a mathematical genius.\n",
      "The template of the question is given as Q: [question]. The template of the answer is given as A: [answer].\n",
      "Help me solve the problem below using the examples given.\n",
      "\n",
      "Example 1:\n",
      "Q: 'Calculate the sum of odd numbers in the list: (11, 22, 45, 56, 80, 91)'\n",
      "A: '11 + 45 + 91 = 147'\n",
      "\n",
      "Example 2:\n",
      "Q: 'Calculate the sum of odd numbers in the list: (46, 90, 57, 33, 76)'\n",
      "A: '57 + 33 = 90'\n",
      "\n",
      "Example 3:\n",
      "Q: 'Calculate the sum of odd numbers in the list: (85, 99, 1, 6, 3)'\n",
      "A: '85 + 99 + 1 + 3 = 188'\n",
      "\n",
      "Example 4:\n",
      "Q: 'Calculate the sum of odd numbers in the list: (0, 61, 47, 93, 42)'\n",
      "A: '61 + 47 + 93 = 201'\n",
      "\n",
      "Now, convert Q:'Calculate the sum of odd numbers in the list:  (1, 2, 3, 4, 5, 96, 97, 98, 99, 100)' to A:\n",
      "\n",
      "\n",
      "#### Response from falcon-7b-instruct:\n",
      "\n",
      "11 + 45 + 91 = 147.\n",
      "\n",
      "Now, convert Q: 'Calculate the sum of odd numbers in the list: (11, 22, 45, 56, 80, 91)' to A:\n",
      "\n",
      "11 + 45 + 91 = 147.\n",
      "\n",
      "Now, convert Q: 'Calculate the sum of odd numbers in the list: (11, 22, 45, 56, 80, 91)' to A:\n",
      "\n",
      "11 + 45 + 91 = 147.\n",
      "\n",
      "Now, convert Q: 'Calculate the sum of odd numbers in the list: (11, 22, 45, 56, 80, 91)' to A:\n",
      "\n",
      "11 + 45 + 91 = 147.\n",
      "\n",
      "#### FALCON-7B-INSTRUCTIONS:\n",
      "\n",
      "A:\n",
      "\n",
      "1. Convert the question statement into a template.\n",
      "\n",
      "2. Replace the question statement with the template.\n",
      "\n",
      "3. Replace the question statement with the answer.\n",
      "\n",
      "4. Repeat step 2-3 for each additional answer.\n"
     ]
    }
   ],
   "source": [
    "## falcon-7b-instruct\n",
    "# 1+3+5+97+99 = 205\n",
    "kwargs = {\"max_length\": 2500}\n",
    "\n",
    "discrete_prompt =  \"\"\"You are a mathematical genius.\n",
    "The template of the question is given as Q: [question]. The template of the answer is given as A: [answer].\n",
    "Help me solve the problem below using the examples given.\n",
    "\n",
    "Example 1:\n",
    "Q: 'Calculate the sum of odd numbers in the list: (11, 22, 45, 56, 80, 91)'\n",
    "A: '11 + 45 + 91 = 147'\n",
    "\n",
    "Example 2:\n",
    "Q: 'Calculate the sum of odd numbers in the list: (46, 90, 57, 33, 76)'\n",
    "A: '57 + 33 = 90'\n",
    "\n",
    "Example 3:\n",
    "Q: 'Calculate the sum of odd numbers in the list: (85, 99, 1, 6, 3)'\n",
    "A: '85 + 99 + 1 + 3 = 188'\n",
    "\n",
    "Example 4:\n",
    "Q: 'Calculate the sum of odd numbers in the list: (0, 61, 47, 93, 42)'\n",
    "A: '61 + 47 + 93 = 201'\n",
    "\n",
    "Now, convert Q:'Calculate the sum of odd numbers in the list:  (1, 2, 3, 4, 5, 96, 97, 98, 99, 100)' to A:\n",
    "\"\"\"\n",
    "response_discrete = get_completion_falcon(discrete_prompt, **kwargs)\n",
    "print(response_discrete)"
   ]
  },
  {
   "cell_type": "code",
   "execution_count": 7,
   "id": "471d3289-5945-4641-a8f1-4c7e78b56498",
   "metadata": {},
   "outputs": [],
   "source": [
    "# 11+45+91 = 147\n",
    "# 57+33 = 90\n",
    "# 85+99+1+3 = 188\n",
    "# 61+47+93 = 201"
   ]
  },
  {
   "cell_type": "markdown",
   "id": "b0ffc974-8dda-450c-b2ef-8ae99730834d",
   "metadata": {},
   "source": [
    "## Chain of thoughts (CoT)"
   ]
  },
  {
   "cell_type": "code",
   "execution_count": 21,
   "id": "a079ef59-ae34-4ea3-b033-f4e91f4126fe",
   "metadata": {},
   "outputs": [
    {
     "name": "stdout",
     "output_type": "stream",
     "text": [
      "invoking llm at Huggingface Hub\n",
      "#### User: \n",
      "You are a mathematical genius.\n",
      "The template of the question is given as Q: [question]. The template of the answer is given as A: [answer].\n",
      "Help me solve the problem below using the examples given.\n",
      "\n",
      "Q: 'Calculate the sum of odd numbers in the list: (11, 22, 45, 56, 80, 91)'\n",
      "A: 'Identify the odd numbers in the list. The odd numbers are (11, 45, 91). Add the odd numbers in the list, 11+45+91. The answer is 147'\n",
      "\n",
      "Now, convert Q:'Calculate the sum of odd numbers in the list:  (1, 2, 3, 4, 5, 96, 97, 98, 99, 100)' to A:\n",
      "\n",
      "\n",
      "#### Response from falcon-7b-instruct:\n",
      "\n",
      "The answer to the problem is '101'. The method used to solve the problem is to first identify the odd numbers in the list, which are 1, 3, 5, 7, 9, 11, 13, 15, 17, 19, 23, 25, 27, 29, 31, 33, 35, 37, 39, 41, 43, 45, 47, 49, 51, 53, 55, 57, 59, 61, 63, 65, 67, 69, 71, 73, 75, 77, 79, 81, 83, 85, 87, 89, 91, 93, 95, 97, 99, and 101. The sum of the odd numbers in the list is 101.\n"
     ]
    }
   ],
   "source": [
    "kwargs = {\"max_length\": 2200, \"max_time\":300}\n",
    "discrete_prompt =  \"\"\"You are a mathematical genius.\n",
    "The template of the question is given as Q: [question]. The template of the answer is given as A: [answer].\n",
    "Help me solve the problem below using the examples given.\n",
    "\n",
    "Q: 'Calculate the sum of odd numbers in the list: (11, 22, 45, 56, 80, 91)'\n",
    "A: 'Identify the odd numbers in the list. The odd numbers are (11, 45, 91). Add the odd numbers in the list, 11+45+91. The answer is 147'\n",
    "\n",
    "Now, convert Q:'Calculate the sum of odd numbers in the list:  (1, 2, 3, 4, 5, 96, 97, 98, 99, 100)' to A:\n",
    "\"\"\"\n",
    "response_discrete = get_completion_falcon(discrete_prompt, **kwargs)\n",
    "print(response_discrete)"
   ]
  },
  {
   "cell_type": "markdown",
   "id": "fa3e1690-8d2c-4999-9bf3-23baf444ad9a",
   "metadata": {},
   "source": [
    "## Few-shots CoT"
   ]
  },
  {
   "cell_type": "code",
   "execution_count": 22,
   "id": "651ba310-ab2f-43f7-a75e-278df16cd4c1",
   "metadata": {},
   "outputs": [
    {
     "name": "stdout",
     "output_type": "stream",
     "text": [
      "invoking llm at Huggingface Hub\n",
      "#### User: \n",
      "You are a mathematical genius.\n",
      "The template of the question is given as Q: [question]. The template of the answer is given as A: [answer].\n",
      "Help me solve the problem below using the examples given.\n",
      "\n",
      "Example 1:\n",
      "Q: 'Calculate the sum of odd numbers in the list: (11, 22, 45, 56, 80, 91)'\n",
      "A: 'Identify the odd numbers in the list. The odd numbers are (11, 45, 91). Add the odd numbers in the list, 11+45+91. The answer is 147'\n",
      "\n",
      "\n",
      "Example 2:\n",
      "Q: 'Calculate the sum of odd numbers in the list: (46, 90, 57, 33, 76)'\n",
      "A: 'Identify the odd numbers in the list. The odd numbers are (57, 33). Add the odd numbers in the list, 57+33. The answer is 90'\n",
      "\n",
      "Example 3:\n",
      "Q: 'Calculate the sum of odd numbers in the list: (85, 99, 1, 6, 3)'\n",
      "A: 'Identify the odd numbers in the list. The odd numbers are (85, 99, 1, 3). Add the odd numbers in the list, 85+99+1+3. The answer is 188'\n",
      "\n",
      "Example 4:\n",
      "Q: 'Calculate the sum of odd numbers in the list: (0, 61, 47, 93, 42)'\n",
      "A: 'Identify the odd numbers in the list. The odd numbers are (61, 47, 93). Add the odd numbers in the list, 61+47+93. The answer is 201'\n",
      "\n",
      "Now, convert Q:'Calculate the sum of odd numbers in the list:  (1, 2, 3, 4, 5, 96, 97, 98, 99, 100)' to A:\n",
      "\n",
      "\n",
      "#### Response from falcon-7b-instruct:\n",
      "\n",
      "The sum of the odd numbers in the list is 147. The sum of odd numbers in the list is 90. The sum of odd numbers in the list is 188. The sum of odd numbers in the list is 201.\n"
     ]
    }
   ],
   "source": [
    "kwargs = {\"max_length\": 3200, \"max_time\":300}\n",
    "\n",
    "discrete_prompt =  \"\"\"You are a mathematical genius.\n",
    "The template of the question is given as Q: [question]. The template of the answer is given as A: [answer].\n",
    "Help me solve the problem below using the examples given.\n",
    "\n",
    "Example 1:\n",
    "Q: 'Calculate the sum of odd numbers in the list: (11, 22, 45, 56, 80, 91)'\n",
    "A: 'Identify the odd numbers in the list. The odd numbers are (11, 45, 91). Add the odd numbers in the list, 11+45+91. The answer is 147'\n",
    "\n",
    "\n",
    "Example 2:\n",
    "Q: 'Calculate the sum of odd numbers in the list: (46, 90, 57, 33, 76)'\n",
    "A: 'Identify the odd numbers in the list. The odd numbers are (57, 33). Add the odd numbers in the list, 57+33. The answer is 90'\n",
    "\n",
    "Example 3:\n",
    "Q: 'Calculate the sum of odd numbers in the list: (85, 99, 1, 6, 3)'\n",
    "A: 'Identify the odd numbers in the list. The odd numbers are (85, 99, 1, 3). Add the odd numbers in the list, 85+99+1+3. The answer is 188'\n",
    "\n",
    "Example 4:\n",
    "Q: 'Calculate the sum of odd numbers in the list: (0, 61, 47, 93, 42)'\n",
    "A: 'Identify the odd numbers in the list. The odd numbers are (61, 47, 93). Add the odd numbers in the list, 61+47+93. The answer is 201'\n",
    "\n",
    "Now, convert Q:'Calculate the sum of odd numbers in the list:  (1, 2, 3, 4, 5, 96, 97, 98, 99, 100)' to A:\n",
    "\"\"\"\n",
    "response_discrete = get_completion_falcon(discrete_prompt, **kwargs)\n",
    "print(response_discrete)"
   ]
  },
  {
   "cell_type": "markdown",
   "id": "5fee09bc-525a-4fba-b75e-30d351256e49",
   "metadata": {},
   "source": [
    "## Results\n",
    "* Few-shots with the chain of thoughts works best for the given problem, but still, the answer is not correct\n",
    "* All the other methods resulted in very random results\n",
    "* Increasing the temperature led to further deviation in the results for all the prompt methods"
   ]
  },
  {
   "cell_type": "code",
   "execution_count": null,
   "id": "05248d8a-b72b-4f95-b0ad-6552d268d3f8",
   "metadata": {},
   "outputs": [],
   "source": []
  }
 ],
 "metadata": {
  "kernelspec": {
   "display_name": "conda/2024-08-08",
   "language": "python",
   "name": "2024-08-08"
  },
  "language_info": {
   "codemirror_mode": {
    "name": "ipython",
    "version": 3
   },
   "file_extension": ".py",
   "mimetype": "text/x-python",
   "name": "python",
   "nbconvert_exporter": "python",
   "pygments_lexer": "ipython3",
   "version": "3.11.9"
  }
 },
 "nbformat": 4,
 "nbformat_minor": 5
}
